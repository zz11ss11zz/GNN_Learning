{
 "cells": [
  {
   "cell_type": "code",
   "execution_count": 2,
   "id": "ec3ebc0f-baac-4d9f-a694-2356b550f1e7",
   "metadata": {
    "tags": []
   },
   "outputs": [],
   "source": [
    "import os\n",
    "import torch\n",
    "from torch import nn\n",
    "from torch.utils.data import DataLoader\n",
    "from torchvision import datasets, transforms"
   ]
  },
  {
   "cell_type": "code",
   "execution_count": 3,
   "id": "dc0adb8c-8ef9-4bf5-8a9b-ad644192eb7f",
   "metadata": {
    "tags": []
   },
   "outputs": [
    {
     "name": "stdout",
     "output_type": "stream",
     "text": [
      "Using cuda device\n"
     ]
    }
   ],
   "source": [
    "device = (\n",
    "    \"cuda\"\n",
    "    if torch.cuda.is_available()\n",
    "    else \"mps\"\n",
    "    if torch.backends.mps.is_available()\n",
    "    else \"cpu\"\n",
    ")\n",
    "print(f\"Using {device} device\")"
   ]
  },
  {
   "cell_type": "code",
   "execution_count": 4,
   "id": "d1ed270e-3469-4cda-8c4a-b6dfda8f9c28",
   "metadata": {
    "tags": []
   },
   "outputs": [],
   "source": [
    "class NeuralNetwork(nn.Module):\n",
    "    def __init__(self):\n",
    "        super().__init__()\n",
    "        self.flatten = nn.Flatten()\n",
    "        self.linear_relu_stack = nn.Sequential(\n",
    "            nn.Linear(28*28, 512),\n",
    "            nn.ReLU(),\n",
    "            nn.Linear(512, 512),\n",
    "            nn.ReLU(),\n",
    "            nn.Linear(512, 10),\n",
    "        )\n",
    "    \n",
    "    def forward(self, x):\n",
    "        x = self.flatten(x)\n",
    "        logits = self.linear_relu_stack(x)\n",
    "        return logits"
   ]
  },
  {
   "cell_type": "code",
   "execution_count": 6,
   "id": "5c45f3c0-5954-4d40-a882-d4f008776b43",
   "metadata": {
    "tags": []
   },
   "outputs": [
    {
     "name": "stdout",
     "output_type": "stream",
     "text": [
      "NeuralNetwork(\n",
      "  (flatten): Flatten(start_dim=1, end_dim=-1)\n",
      "  (linear_relu_stack): Sequential(\n",
      "    (0): Linear(in_features=784, out_features=512, bias=True)\n",
      "    (1): ReLU()\n",
      "    (2): Linear(in_features=512, out_features=512, bias=True)\n",
      "    (3): ReLU()\n",
      "    (4): Linear(in_features=512, out_features=10, bias=True)\n",
      "  )\n",
      ")\n"
     ]
    }
   ],
   "source": [
    "model = NeuralNetwork().to(device)\n",
    "print(model)"
   ]
  },
  {
   "cell_type": "code",
   "execution_count": 7,
   "id": "357c8f13-b2d3-48f9-82aa-bdfbfe87e98e",
   "metadata": {
    "tags": []
   },
   "outputs": [
    {
     "name": "stdout",
     "output_type": "stream",
     "text": [
      "Predicted class: tensor([9], device='cuda:0')\n"
     ]
    }
   ],
   "source": [
    "X = torch.rand(1, 28, 28, device=device)\n",
    "logits = model(X)\n",
    "pred_probab = nn.Softmax(dim=1)(logits)\n",
    "y_pred = pred_probab.argmax(1)\n",
    "print(f\"Predicted class: {y_pred}\")"
   ]
  },
  {
   "cell_type": "markdown",
   "id": "f220dc86-7a7d-46dc-93cd-b881ce12f8f6",
   "metadata": {},
   "source": [
    "Model Layers"
   ]
  },
  {
   "cell_type": "code",
   "execution_count": 9,
   "id": "39e0f63f-c5b2-4929-87cf-168345eacd24",
   "metadata": {
    "tags": []
   },
   "outputs": [
    {
     "name": "stdout",
     "output_type": "stream",
     "text": [
      "torch.Size([3, 28, 28])\n"
     ]
    }
   ],
   "source": [
    "input_image = torch.rand(3,28,28)\n",
    "print(input_image.size())"
   ]
  },
  {
   "cell_type": "code",
   "execution_count": 10,
   "id": "55358e40-da2a-4e94-9853-7face3a49fc8",
   "metadata": {
    "tags": []
   },
   "outputs": [
    {
     "name": "stdout",
     "output_type": "stream",
     "text": [
      "torch.Size([3, 784])\n"
     ]
    }
   ],
   "source": [
    "flatten = nn.Flatten()\n",
    "flat_image = flatten(input_image)\n",
    "print(flat_image.size())"
   ]
  },
  {
   "cell_type": "code",
   "execution_count": 11,
   "id": "1b3dbaf5-5277-48fc-be63-61e567a8cff0",
   "metadata": {
    "tags": []
   },
   "outputs": [
    {
     "name": "stdout",
     "output_type": "stream",
     "text": [
      "torch.Size([3, 20])\n"
     ]
    }
   ],
   "source": [
    "layer1 = nn.Linear(in_features=28*28, out_features=20)\n",
    "hidden1 = layer1(flat_image)\n",
    "print(hidden1.size())"
   ]
  },
  {
   "cell_type": "code",
   "execution_count": 14,
   "id": "b46a3dae-bcd4-4a47-b2bb-1db2fc46b92f",
   "metadata": {
    "tags": []
   },
   "outputs": [
    {
     "name": "stdout",
     "output_type": "stream",
     "text": [
      "Before ReLU: tensor([[-0.1732,  0.2608,  0.2630, -0.2119,  0.3085,  0.1791,  0.2682, -0.3029,\n",
      "         -0.5017,  0.0928, -0.2998,  0.5994, -0.3436, -0.1103, -0.1906, -0.4563,\n",
      "         -0.0514,  0.1149, -0.0822,  0.1180],\n",
      "        [-0.1984,  0.1038,  0.2098, -0.2114,  0.3294,  0.1016,  0.3956, -0.2513,\n",
      "         -0.5230,  0.2684, -0.2182,  0.3427, -0.1320, -0.2519,  0.2239, -0.2160,\n",
      "          0.1633, -0.3365, -0.2125,  0.2422],\n",
      "        [-0.3038,  0.4958,  0.0742, -0.4463,  0.1475,  0.0720,  0.2241, -0.2220,\n",
      "         -0.6678,  0.0971, -0.0297,  0.4058, -0.4130,  0.0361, -0.1721, -0.1278,\n",
      "         -0.2024, -0.1753, -0.0600,  0.1959]], grad_fn=<AddmmBackward0>)\n",
      "\n",
      "\n",
      "After ReLU: tensor([[0.0000, 0.2608, 0.2630, 0.0000, 0.3085, 0.1791, 0.2682, 0.0000, 0.0000,\n",
      "         0.0928, 0.0000, 0.5994, 0.0000, 0.0000, 0.0000, 0.0000, 0.0000, 0.1149,\n",
      "         0.0000, 0.1180],\n",
      "        [0.0000, 0.1038, 0.2098, 0.0000, 0.3294, 0.1016, 0.3956, 0.0000, 0.0000,\n",
      "         0.2684, 0.0000, 0.3427, 0.0000, 0.0000, 0.2239, 0.0000, 0.1633, 0.0000,\n",
      "         0.0000, 0.2422],\n",
      "        [0.0000, 0.4958, 0.0742, 0.0000, 0.1475, 0.0720, 0.2241, 0.0000, 0.0000,\n",
      "         0.0971, 0.0000, 0.4058, 0.0000, 0.0361, 0.0000, 0.0000, 0.0000, 0.0000,\n",
      "         0.0000, 0.1959]], grad_fn=<ReluBackward0>)\n"
     ]
    }
   ],
   "source": [
    "print(f\"Before ReLU: {hidden1}\\n\\n\")\n",
    "hidden1 = nn.ReLU()(hidden1)\n",
    "print(f\"After ReLU: {hidden1}\")"
   ]
  },
  {
   "cell_type": "code",
   "execution_count": 20,
   "id": "ae470aff-c344-44c9-8024-c87745ae35e2",
   "metadata": {
    "tags": []
   },
   "outputs": [],
   "source": [
    "seq_modules = nn.Sequential(\n",
    "    flatten,\n",
    "    layer1,\n",
    "#    nn.ReLU(),\n",
    "    nn.Linear(20, 10)\n",
    ")\n",
    "input_image = torch.rand(3,28,28)\n",
    "logits = seq_modules(input_image)"
   ]
  },
  {
   "cell_type": "code",
   "execution_count": 16,
   "id": "c430cc91-3950-4907-8bb4-e887552fcd79",
   "metadata": {
    "tags": []
   },
   "outputs": [],
   "source": [
    "softmax = nn.Softmax(dim=1)\n",
    "pred_probab = softmax(logits)"
   ]
  },
  {
   "cell_type": "code",
   "execution_count": 17,
   "id": "ced29367-0b0c-4911-943e-2fc253fab99a",
   "metadata": {
    "tags": []
   },
   "outputs": [
    {
     "name": "stdout",
     "output_type": "stream",
     "text": [
      "Model structure: NeuralNetwork(\n",
      "  (flatten): Flatten(start_dim=1, end_dim=-1)\n",
      "  (linear_relu_stack): Sequential(\n",
      "    (0): Linear(in_features=784, out_features=512, bias=True)\n",
      "    (1): ReLU()\n",
      "    (2): Linear(in_features=512, out_features=512, bias=True)\n",
      "    (3): ReLU()\n",
      "    (4): Linear(in_features=512, out_features=10, bias=True)\n",
      "  )\n",
      ")\n",
      "\n",
      "\n",
      "Layer: linear_relu_stack.0.weight | Size: torch.Size([512, 784]) | Values : tensor([[ 0.0131, -0.0083, -0.0220,  ..., -0.0154, -0.0279, -0.0027],\n",
      "        [-0.0093, -0.0337, -0.0146,  ..., -0.0158,  0.0025, -0.0171]],\n",
      "       device='cuda:0', grad_fn=<SliceBackward0>) \n",
      "\n",
      "Layer: linear_relu_stack.0.bias | Size: torch.Size([512]) | Values : tensor([-0.0149,  0.0250], device='cuda:0', grad_fn=<SliceBackward0>) \n",
      "\n",
      "Layer: linear_relu_stack.2.weight | Size: torch.Size([512, 512]) | Values : tensor([[ 0.0413,  0.0013,  0.0123,  ..., -0.0349,  0.0298,  0.0129],\n",
      "        [-0.0364, -0.0333,  0.0041,  ..., -0.0203, -0.0141,  0.0276]],\n",
      "       device='cuda:0', grad_fn=<SliceBackward0>) \n",
      "\n",
      "Layer: linear_relu_stack.2.bias | Size: torch.Size([512]) | Values : tensor([0.0100, 0.0164], device='cuda:0', grad_fn=<SliceBackward0>) \n",
      "\n",
      "Layer: linear_relu_stack.4.weight | Size: torch.Size([10, 512]) | Values : tensor([[-0.0422,  0.0070,  0.0167,  ..., -0.0077,  0.0302,  0.0057],\n",
      "        [ 0.0030,  0.0361,  0.0043,  ..., -0.0076, -0.0206, -0.0040]],\n",
      "       device='cuda:0', grad_fn=<SliceBackward0>) \n",
      "\n",
      "Layer: linear_relu_stack.4.bias | Size: torch.Size([10]) | Values : tensor([-0.0149, -0.0007], device='cuda:0', grad_fn=<SliceBackward0>) \n",
      "\n"
     ]
    }
   ],
   "source": [
    "print(f\"Model structure: {model}\\n\\n\")\n",
    "\n",
    "for name, param in model.named_parameters():\n",
    "    print(f\"Layer: {name} | Size: {param.size()} | Values : {param[:2]} \\n\")"
   ]
  },
  {
   "cell_type": "code",
   "execution_count": 21,
   "id": "cb389638-7aee-46ed-8f9b-d49ed645f767",
   "metadata": {
    "tags": []
   },
   "outputs": [
    {
     "name": "stdout",
     "output_type": "stream",
     "text": [
      "Model structure: Sequential(\n",
      "  (0): Flatten(start_dim=1, end_dim=-1)\n",
      "  (1): Linear(in_features=784, out_features=20, bias=True)\n",
      "  (2): Linear(in_features=20, out_features=10, bias=True)\n",
      ")\n",
      "\n",
      "\n",
      "Layer: 1.weight | Size: torch.Size([20, 784]) | Values : tensor([[-0.0186,  0.0080, -0.0028,  ..., -0.0015,  0.0193,  0.0147],\n",
      "        [-0.0028,  0.0255, -0.0332,  ...,  0.0023, -0.0343,  0.0062]],\n",
      "       grad_fn=<SliceBackward0>) \n",
      "\n",
      "Layer: 1.bias | Size: torch.Size([20]) | Values : tensor([-0.0302,  0.0215], grad_fn=<SliceBackward0>) \n",
      "\n",
      "Layer: 2.weight | Size: torch.Size([10, 20]) | Values : tensor([[-0.1191,  0.0496, -0.1117, -0.0336, -0.2097,  0.0006,  0.0924,  0.1212,\n",
      "         -0.0033, -0.1342,  0.1462, -0.0205,  0.1534, -0.2007,  0.0385,  0.1205,\n",
      "          0.1974, -0.0928, -0.1968, -0.0181],\n",
      "        [ 0.2079, -0.2209, -0.0904,  0.1230, -0.1604, -0.1448, -0.1478,  0.2142,\n",
      "         -0.0675,  0.2043, -0.1386, -0.2074,  0.2186,  0.1218, -0.1195,  0.0854,\n",
      "          0.1655, -0.1820,  0.1226,  0.2224]], grad_fn=<SliceBackward0>) \n",
      "\n",
      "Layer: 2.bias | Size: torch.Size([10]) | Values : tensor([0.2050, 0.1898], grad_fn=<SliceBackward0>) \n",
      "\n"
     ]
    }
   ],
   "source": [
    "print(f\"Model structure: {seq_modules}\\n\\n\")\n",
    "for name, param in seq_modules.named_parameters():\n",
    "    print(f\"Layer: {name} | Size: {param.size()} | Values : {param[:2]} \\n\")"
   ]
  },
  {
   "cell_type": "code",
   "execution_count": null,
   "id": "e6bf762f-3c6c-41ff-b688-33df883e2857",
   "metadata": {},
   "outputs": [],
   "source": []
  }
 ],
 "metadata": {
  "kernelspec": {
   "display_name": "matgl-mc",
   "language": "python",
   "name": "matgl-mc"
  },
  "language_info": {
   "codemirror_mode": {
    "name": "ipython",
    "version": 3
   },
   "file_extension": ".py",
   "mimetype": "text/x-python",
   "name": "python",
   "nbconvert_exporter": "python",
   "pygments_lexer": "ipython3",
   "version": "3.9.18"
  }
 },
 "nbformat": 4,
 "nbformat_minor": 5
}
