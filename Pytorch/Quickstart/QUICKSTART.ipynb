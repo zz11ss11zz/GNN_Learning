{
 "cells": [
  {
   "cell_type": "markdown",
   "id": "435a593d-a8ea-49d5-a6fc-1885b04b8805",
   "metadata": {},
   "source": [
    "Working with data"
   ]
  },
  {
   "cell_type": "code",
   "execution_count": 1,
   "id": "e0502b49-8a2c-46e1-bd98-8656a5a87ac5",
   "metadata": {
    "tags": []
   },
   "outputs": [],
   "source": [
    "import torch\n",
    "from torch import nn\n",
    "from torch.utils.data import DataLoader\n",
    "from torchvision import datasets\n",
    "from torchvision.transforms import ToTensor"
   ]
  },
  {
   "cell_type": "code",
   "execution_count": 2,
   "id": "5dc057bb-5c0e-4342-871c-eacead18f851",
   "metadata": {
    "tags": []
   },
   "outputs": [],
   "source": [
    "training_data = datasets.FashionMNIST(\n",
    "    root=\"data\",\n",
    "    train=True,\n",
    "    download=True,\n",
    "    transform=ToTensor(),\n",
    ")\n",
    "\n",
    "test_data = datasets.FashionMNIST(\n",
    "    root=\"data\",\n",
    "    train=False,\n",
    "    download=True,\n",
    "    transform=ToTensor(),\n",
    ")"
   ]
  },
  {
   "cell_type": "code",
   "execution_count": 3,
   "id": "4b69ab5e-c0ec-40dd-918b-db987f3a63aa",
   "metadata": {
    "tags": []
   },
   "outputs": [
    {
     "name": "stdout",
     "output_type": "stream",
     "text": [
      "Shape of X [N, C, H, W]: torch.Size([64, 1, 28, 28])\n",
      "Shape of y: torch.Size([64]) torch.int64\n"
     ]
    }
   ],
   "source": [
    "batch_size = 64\n",
    "\n",
    "train_dataloader = DataLoader(training_data, batch_size=batch_size)\n",
    "test_dataloader = DataLoader(test_data, batch_size=batch_size)\n",
    "\n",
    "\n",
    "for X, y in test_dataloader:\n",
    "    print(f\"Shape of X [N, C, H, W]: {X.shape}\")\n",
    "    print(f\"Shape of y: {y.shape} {y.dtype}\")\n",
    "    break\n"
   ]
  },
  {
   "cell_type": "markdown",
   "id": "cc413eed-a7f8-44bc-93ca-71c5e388215b",
   "metadata": {},
   "source": [
    "Creating Models"
   ]
  },
  {
   "cell_type": "code",
   "execution_count": 4,
   "id": "3b140064-793b-4f1d-bb83-39e632353a9b",
   "metadata": {
    "tags": []
   },
   "outputs": [
    {
     "name": "stdout",
     "output_type": "stream",
     "text": [
      "Using cuda device\n"
     ]
    }
   ],
   "source": [
    "# Get cpu, gpu or mps device for training.\n",
    "device = (\n",
    "    \"cuda\"\n",
    "    if torch.cuda.is_available()\n",
    "    else \"mps\"\n",
    "    if torch.backends.mps.is_available()\n",
    "    else \"cpu\"\n",
    ")\n",
    "print(f\"Using {device} device\")"
   ]
  },
  {
   "cell_type": "code",
   "execution_count": 5,
   "id": "40d3c7c9-bb92-4e5c-9417-e9654fccb654",
   "metadata": {
    "tags": []
   },
   "outputs": [
    {
     "name": "stdout",
     "output_type": "stream",
     "text": [
      "NeuralNetwork(\n",
      "  (flatten): Flatten(start_dim=1, end_dim=-1)\n",
      "  (linear_relu_stack): Sequential(\n",
      "    (0): Linear(in_features=784, out_features=512, bias=True)\n",
      "    (1): ReLU()\n",
      "    (2): Linear(in_features=512, out_features=512, bias=True)\n",
      "    (3): ReLU()\n",
      "    (4): Linear(in_features=512, out_features=10, bias=True)\n",
      "  )\n",
      ")\n"
     ]
    }
   ],
   "source": [
    "class NeuralNetwork(nn.Module):\n",
    "    def __init__(self):\n",
    "        super().__init__()\n",
    "        self.flatten = nn.Flatten()\n",
    "        self.linear_relu_stack = nn.Sequential(\n",
    "            nn.Linear(28*28, 512),\n",
    "            nn.ReLU(),\n",
    "            nn.Linear(512, 512),\n",
    "            nn.ReLU(),\n",
    "            nn.Linear(512, 10)\n",
    "        )\n",
    "    \n",
    "    def forward(self, x):\n",
    "        x = self.flatten(x)\n",
    "        logits = self.linear_relu_stack(x)\n",
    "        return logits\n",
    "\n",
    "model = NeuralNetwork().to(device)\n",
    "print(model)"
   ]
  },
  {
   "cell_type": "markdown",
   "id": "3d714c25-ca91-45ac-8a68-972973bbefcf",
   "metadata": {},
   "source": [
    "Optimizing the Model Parameters\n"
   ]
  },
  {
   "cell_type": "code",
   "execution_count": 7,
   "id": "9f5c1444-2e33-45f5-8d0d-6c71f2d15164",
   "metadata": {
    "tags": []
   },
   "outputs": [],
   "source": [
    "loss_fn = nn.CrossEntropyLoss()\n",
    "optimizer = torch.optim.SGD(model.parameters(), lr=1e-3)"
   ]
  },
  {
   "cell_type": "code",
   "execution_count": 9,
   "id": "ea763b14-975d-4b37-8fa3-3d7cbe1df81d",
   "metadata": {
    "tags": []
   },
   "outputs": [],
   "source": [
    "def train(dataloader, model, loss_fn, optimizer):\n",
    "    size = len(dataloader.dataset)\n",
    "    model.train()\n",
    "    for batch, (X, y) in enumerate(dataloader):\n",
    "        X, y = X.to(device), y.to(device)\n",
    "        \n",
    "        # Compute prediction error\n",
    "        pred = model(X)\n",
    "        loss = loss_fn(pred, y)\n",
    "        \n",
    "        # Backpropagation\n",
    "        loss.backward()\n",
    "        optimizer.step()\n",
    "        optimizer.zero_grad()\n",
    "        \n",
    "        if batch % 100 == 0:\n",
    "            loss, current = loss.item(), (batch + 1) * len(X)\n",
    "            print(f\"loss: {loss:>7f}  [{current:>5d}/{size:>5d}]\")"
   ]
  },
  {
   "cell_type": "code",
   "execution_count": 10,
   "id": "075f3c74-3d66-420f-bb62-bcd010634a37",
   "metadata": {
    "tags": []
   },
   "outputs": [],
   "source": [
    "def test(dataloader, model, loss_fn):\n",
    "    size = len(dataloader.dataset)\n",
    "    num_batches = len(dataloader)\n",
    "    model.eval()\n",
    "    test_loss, correct = 0, 0\n",
    "    with torch.no_grad():\n",
    "        for X, y in dataloader:\n",
    "            X, y = X.to(device), y.to(device)\n",
    "            pred = model(X)\n",
    "            test_loss += loss_fn(pred, y).item()\n",
    "            correct += (pred.argmax(1) == y).type(torch.float).sum().item()\n",
    "    test_loss /= num_batches\n",
    "    correct /= size\n",
    "    print(f\"Test Error: \\n Accuracy: {(100*correct):>0.1f}%, Avg loss: {test_loss:>8f} \\n\")"
   ]
  },
  {
   "cell_type": "code",
   "execution_count": 12,
   "id": "56b5f1b5-09c2-4f9b-b1b3-63943ffd0929",
   "metadata": {
    "tags": []
   },
   "outputs": [
    {
     "name": "stdout",
     "output_type": "stream",
     "text": [
      "Epoch 1\n",
      "-------------------------------\n",
      "loss: 2.157417  [   64/60000]\n",
      "loss: 2.147806  [ 6464/60000]\n",
      "loss: 2.074610  [12864/60000]\n",
      "loss: 2.087522  [19264/60000]\n",
      "loss: 2.050729  [25664/60000]\n",
      "loss: 1.971258  [32064/60000]\n",
      "loss: 2.012240  [38464/60000]\n",
      "loss: 1.918882  [44864/60000]\n",
      "loss: 1.925742  [51264/60000]\n",
      "loss: 1.850220  [57664/60000]\n",
      "Test Error: \n",
      " Accuracy: 55.1%, Avg loss: 1.846726 \n",
      "\n",
      "Epoch 2\n",
      "-------------------------------\n",
      "loss: 1.890376  [   64/60000]\n",
      "loss: 1.857403  [ 6464/60000]\n",
      "loss: 1.725906  [12864/60000]\n",
      "loss: 1.768257  [19264/60000]\n",
      "loss: 1.675921  [25664/60000]\n",
      "loss: 1.620250  [32064/60000]\n",
      "loss: 1.646922  [38464/60000]\n",
      "loss: 1.545742  [44864/60000]\n",
      "loss: 1.573557  [51264/60000]\n",
      "loss: 1.471192  [57664/60000]\n",
      "Test Error: \n",
      " Accuracy: 60.9%, Avg loss: 1.486651 \n",
      "\n",
      "Epoch 3\n",
      "-------------------------------\n",
      "loss: 1.562848  [   64/60000]\n",
      "loss: 1.527667  [ 6464/60000]\n",
      "loss: 1.372317  [12864/60000]\n",
      "loss: 1.444038  [19264/60000]\n",
      "loss: 1.341679  [25664/60000]\n",
      "loss: 1.330293  [32064/60000]\n",
      "loss: 1.346914  [38464/60000]\n",
      "loss: 1.274481  [44864/60000]\n",
      "loss: 1.308856  [51264/60000]\n",
      "loss: 1.214735  [57664/60000]\n",
      "Test Error: \n",
      " Accuracy: 63.7%, Avg loss: 1.235729 \n",
      "\n",
      "Epoch 4\n",
      "-------------------------------\n",
      "loss: 1.317414  [   64/60000]\n",
      "loss: 1.299112  [ 6464/60000]\n",
      "loss: 1.130513  [12864/60000]\n",
      "loss: 1.233556  [19264/60000]\n",
      "loss: 1.123625  [25664/60000]\n",
      "loss: 1.138193  [32064/60000]\n",
      "loss: 1.162290  [38464/60000]\n",
      "loss: 1.103983  [44864/60000]\n",
      "loss: 1.142709  [51264/60000]\n",
      "loss: 1.060429  [57664/60000]\n",
      "Test Error: \n",
      " Accuracy: 65.0%, Avg loss: 1.076824 \n",
      "\n",
      "Epoch 5\n",
      "-------------------------------\n",
      "loss: 1.151196  [   64/60000]\n",
      "loss: 1.152130  [ 6464/60000]\n",
      "loss: 0.968089  [12864/60000]\n",
      "loss: 1.098987  [19264/60000]\n",
      "loss: 0.989873  [25664/60000]\n",
      "loss: 1.006956  [32064/60000]\n",
      "loss: 1.046057  [38464/60000]\n",
      "loss: 0.995156  [44864/60000]\n",
      "loss: 1.033493  [51264/60000]\n",
      "loss: 0.961103  [57664/60000]\n",
      "Test Error: \n",
      " Accuracy: 66.0%, Avg loss: 0.973038 \n",
      "\n",
      "Done!\n"
     ]
    }
   ],
   "source": [
    "epochs = 5\n",
    "for t in range(epochs):\n",
    "    print(f\"Epoch {t+1}\\n-------------------------------\")\n",
    "    train(train_dataloader, model, loss_fn, optimizer)\n",
    "    test(test_dataloader, model, loss_fn)\n",
    "print(\"Done!\")"
   ]
  },
  {
   "cell_type": "markdown",
   "id": "d3fcd958-0977-4e10-aefa-9029e1d43043",
   "metadata": {},
   "source": [
    "Saving Models\n"
   ]
  },
  {
   "cell_type": "code",
   "execution_count": 13,
   "id": "3533d10e-9bef-4449-bb18-c9f0428b7013",
   "metadata": {
    "tags": []
   },
   "outputs": [
    {
     "name": "stdout",
     "output_type": "stream",
     "text": [
      "Saved PyTorch Model State to model.pth\n"
     ]
    }
   ],
   "source": [
    "torch.save(model.state_dict(), \"model.pth\")\n",
    "print(\"Saved PyTorch Model State to model.pth\")"
   ]
  },
  {
   "cell_type": "markdown",
   "id": "8fd675e7-91cb-485e-8a56-22bb11bcf04a",
   "metadata": {},
   "source": [
    "Loading Models"
   ]
  },
  {
   "cell_type": "code",
   "execution_count": 16,
   "id": "7326a9f6-bcbc-45e5-ab1c-08352f7922e6",
   "metadata": {
    "tags": []
   },
   "outputs": [
    {
     "data": {
      "text/plain": [
       "<All keys matched successfully>"
      ]
     },
     "execution_count": 16,
     "metadata": {},
     "output_type": "execute_result"
    }
   ],
   "source": [
    "model = NeuralNetwork().to(device)\n",
    "model.load_state_dict(torch.load(\"model.pth\"))"
   ]
  },
  {
   "cell_type": "code",
   "execution_count": 17,
   "id": "ed0e085f-bb60-4828-8305-417e1c4b207c",
   "metadata": {
    "tags": []
   },
   "outputs": [],
   "source": [
    "classes = [\n",
    "    \"T-shirt/top\",\n",
    "    \"Trouser\",\n",
    "    \"Pullover\",\n",
    "    \"Dress\",\n",
    "    \"Coat\",\n",
    "    \"Sandal\",\n",
    "    \"Shirt\",\n",
    "    \"Sneaker\",\n",
    "    \"Bag\",\n",
    "    \"Ankle boot\",\n",
    "]\n",
    "\n",
    "model.eval()\n",
    "x, y = test_data[0][0], test_data[0][1]"
   ]
  },
  {
   "cell_type": "code",
   "execution_count": 24,
   "id": "1ec466e6-c069-4951-b390-33d3e0313971",
   "metadata": {
    "tags": []
   },
   "outputs": [
    {
     "name": "stdout",
     "output_type": "stream",
     "text": [
      "Predicted: \"Ankle boot\", Actual: \"Ankle boot\"\n"
     ]
    }
   ],
   "source": [
    "with torch.no_grad():\n",
    "    x = x.to(device)\n",
    "    pred = model(x)\n",
    "    predicted, actual = classes[pred[0].argmax(0)], classes[y]\n",
    "    print(f'Predicted: \"{predicted}\", Actual: \"{actual}\"')"
   ]
  },
  {
   "cell_type": "raw",
   "id": "31c98b87-6650-4e01-a6a8-a50e68c0e2cc",
   "metadata": {},
   "source": []
  }
 ],
 "metadata": {
  "kernelspec": {
   "display_name": "matgl-mc",
   "language": "python",
   "name": "matgl-mc"
  },
  "language_info": {
   "codemirror_mode": {
    "name": "ipython",
    "version": 3
   },
   "file_extension": ".py",
   "mimetype": "text/x-python",
   "name": "python",
   "nbconvert_exporter": "python",
   "pygments_lexer": "ipython3",
   "version": "3.9.18"
  }
 },
 "nbformat": 4,
 "nbformat_minor": 5
}
