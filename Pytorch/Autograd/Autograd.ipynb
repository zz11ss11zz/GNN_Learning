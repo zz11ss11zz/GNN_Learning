{
 "cells": [
  {
   "cell_type": "code",
   "execution_count": 1,
   "id": "a9fdb66f-d2cd-41f1-b19f-6db16b09c88b",
   "metadata": {
    "tags": []
   },
   "outputs": [],
   "source": [
    "import torch\n",
    "\n",
    "x = torch.ones(5)\n",
    "y = torch.zeros(3)\n",
    "w = torch.randn(5, 3, requires_grad=True)\n",
    "b = torch.randn(3, requires_grad=True)\n",
    "z = torch.matmul(x, w) + b\n",
    "loss = torch.nn.functional.binary_cross_entropy_with_logits(z, y)"
   ]
  },
  {
   "cell_type": "code",
   "execution_count": 2,
   "id": "67083e7f-aba2-4ba6-806f-e704f00104f8",
   "metadata": {
    "tags": []
   },
   "outputs": [
    {
     "name": "stdout",
     "output_type": "stream",
     "text": [
      "Gradient function for z = <AddBackward0 object at 0x7fafb4ae87f0>\n",
      "Gradient function for loss = <BinaryCrossEntropyWithLogitsBackward0 object at 0x7fafb4ae8670>\n"
     ]
    }
   ],
   "source": [
    "print(f\"Gradient function for z = {z.grad_fn}\")\n",
    "print(f\"Gradient function for loss = {loss.grad_fn}\")"
   ]
  },
  {
   "cell_type": "markdown",
   "id": "1154cdf0-c3a9-48e4-9476-fa37f6915149",
   "metadata": {},
   "source": [
    "Computing Gradients"
   ]
  },
  {
   "cell_type": "code",
   "execution_count": 3,
   "id": "a5555189-6b70-43f1-b0a9-6dfe617059cf",
   "metadata": {
    "tags": []
   },
   "outputs": [
    {
     "name": "stdout",
     "output_type": "stream",
     "text": [
      "tensor([[0.0123, 0.1066, 0.0001],\n",
      "        [0.0123, 0.1066, 0.0001],\n",
      "        [0.0123, 0.1066, 0.0001],\n",
      "        [0.0123, 0.1066, 0.0001],\n",
      "        [0.0123, 0.1066, 0.0001]])\n",
      "tensor([0.0123, 0.1066, 0.0001])\n"
     ]
    }
   ],
   "source": [
    "loss.backward()\n",
    "print(w.grad)\n",
    "print(b.grad)"
   ]
  },
  {
   "cell_type": "code",
   "execution_count": 4,
   "id": "1afbcfe4-6d60-4722-9685-2a4610a48810",
   "metadata": {
    "tags": []
   },
   "outputs": [
    {
     "name": "stdout",
     "output_type": "stream",
     "text": [
      "True\n",
      "False\n"
     ]
    }
   ],
   "source": [
    "z = torch.matmul(x, w) + b\n",
    "print(z.requires_grad)\n",
    "\n",
    "with torch.no_grad():\n",
    "    z = torch.matmul(x, w) + b\n",
    "print(z.requires_grad)"
   ]
  },
  {
   "cell_type": "code",
   "execution_count": 7,
   "id": "49f31fa2-7ddb-442c-b802-04c50d6ff1cd",
   "metadata": {
    "tags": []
   },
   "outputs": [
    {
     "name": "stdout",
     "output_type": "stream",
     "text": [
      "False\n"
     ]
    }
   ],
   "source": [
    "z = torch.matmul(x, w) + b\n",
    "z_det = z.detach()\n",
    "print(z_det.requires_grad)"
   ]
  },
  {
   "cell_type": "code",
   "execution_count": 155,
   "id": "1b89318b-beb1-41b6-a181-7586d33e1ade",
   "metadata": {
    "tags": []
   },
   "outputs": [
    {
     "name": "stdout",
     "output_type": "stream",
     "text": [
      "out\n",
      "tensor([36.], grad_fn=<PowBackward0>)\n",
      "inp\n",
      "tensor([1.], requires_grad=True)\n",
      "Grad\n",
      "tensor([144.])\n"
     ]
    }
   ],
   "source": [
    "inp = torch.ones(1, requires_grad=True)\n",
    "out = (inp+5).pow(2)\n",
    "out.backward(torch.tensor([12]), retain_graph=True)\n",
    "print(f\"out\\n{out}\")\n",
    "print(f\"inp\\n{inp}\")\n",
    "print(f\"Grad\\n{inp.grad}\")"
   ]
  },
  {
   "cell_type": "code",
   "execution_count": 147,
   "id": "d4c6853a-81b5-43b8-853b-ce12d14ef838",
   "metadata": {
    "tags": []
   },
   "outputs": [
    {
     "data": {
      "text/plain": [
       "tensor([36.], grad_fn=<PowBackward0>)"
      ]
     },
     "execution_count": 147,
     "metadata": {},
     "output_type": "execute_result"
    }
   ],
   "source": [
    "out"
   ]
  },
  {
   "cell_type": "code",
   "execution_count": 148,
   "id": "e2f5adf0-a413-4d98-a7ea-4a7b07dca992",
   "metadata": {
    "tags": []
   },
   "outputs": [
    {
     "data": {
      "text/plain": [
       "tensor([1.], requires_grad=True)"
      ]
     },
     "execution_count": 148,
     "metadata": {},
     "output_type": "execute_result"
    }
   ],
   "source": [
    "inp"
   ]
  },
  {
   "cell_type": "code",
   "execution_count": 149,
   "id": "52ff6fe2-10f5-4c25-8da4-8270b7a2e377",
   "metadata": {
    "tags": []
   },
   "outputs": [
    {
     "data": {
      "text/plain": [
       "tensor([1.])"
      ]
     },
     "execution_count": 149,
     "metadata": {},
     "output_type": "execute_result"
    }
   ],
   "source": [
    "torch.ones_like(out)"
   ]
  },
  {
   "cell_type": "code",
   "execution_count": null,
   "id": "4c6e24bc-77a5-487e-a891-6fac3200c263",
   "metadata": {
    "tags": []
   },
   "outputs": [],
   "source": []
  },
  {
   "cell_type": "code",
   "execution_count": null,
   "id": "61decdf0-d877-4501-aa54-bcf6e3fe72c4",
   "metadata": {},
   "outputs": [],
   "source": []
  }
 ],
 "metadata": {
  "kernelspec": {
   "display_name": "matgl-mc",
   "language": "python",
   "name": "matgl-mc"
  },
  "language_info": {
   "codemirror_mode": {
    "name": "ipython",
    "version": 3
   },
   "file_extension": ".py",
   "mimetype": "text/x-python",
   "name": "python",
   "nbconvert_exporter": "python",
   "pygments_lexer": "ipython3",
   "version": "3.9.18"
  }
 },
 "nbformat": 4,
 "nbformat_minor": 5
}
